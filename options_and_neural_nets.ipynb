{
  "nbformat": 4,
  "nbformat_minor": 0,
  "metadata": {
    "colab": {
      "name": "options and neural nets.ipynb",
      "provenance": [],
      "collapsed_sections": [],
      "include_colab_link": true
    },
    "kernelspec": {
      "name": "python3",
      "display_name": "Python 3"
    }
  },
  "cells": [
    {
      "cell_type": "markdown",
      "metadata": {
        "id": "view-in-github",
        "colab_type": "text"
      },
      "source": [
        "<a href=\"https://colab.research.google.com/github/N-Jaro/FIN553/blob/master/options_and_neural_nets.ipynb\" target=\"_parent\"><img src=\"https://colab.research.google.com/assets/colab-badge.svg\" alt=\"Open In Colab\"/></a>"
      ]
    },
    {
      "cell_type": "code",
      "metadata": {
        "id": "RuxkSSCEPa00"
      },
      "source": [
        "import numpy as np\n",
        "import matplotlib.pyplot as plt"
      ],
      "execution_count": null,
      "outputs": []
    },
    {
      "cell_type": "code",
      "metadata": {
        "id": "hy7WuZmyPeT8",
        "outputId": "81d513e8-967b-4008-fe81-79c8fe91b4ed",
        "colab": {
          "base_uri": "https://localhost:8080/",
          "height": 282
        }
      },
      "source": [
        "S = np.array([-0.8964536 , -0.8937423 , -0.8160014 , -0.8135896 , -0.7777178 ,\n",
        "       -0.7306509 , -0.7196269 , -0.56077266, -0.5225189 , -0.39259458,\n",
        "       -0.37080932, -0.30425978, -0.30012155, -0.26793814, -0.23755741,\n",
        "       -0.20966339, -0.16642046, -0.15392852, -0.14616823, -0.09809828,\n",
        "       -0.01211524,  0.02200961,  0.0394454 ,  0.04127908,  0.14237666,\n",
        "        0.1488111 ,  0.20493412,  0.25775242,  0.2756691 ,  0.32817745,\n",
        "        0.3374791 ,  0.34276915,  0.34953642,  0.41928077,  0.4337349 ,\n",
        "        0.43921685,  0.4798982 ,  0.5894067 ,  0.5936425 ,  0.6099713 ,\n",
        "        0.64054966,  0.6516247 ,  0.7327845 ,  0.8028183 ,  0.803761  ,\n",
        "        0.82667255,  0.8778291 ,  0.879761  ,  0.8880968 ,  0.92238617])\n",
        "\n",
        "payoff = np.array([-8.30690000e-01, -8.41413975e-01, -9.98246000e-01, -9.98990000e-01,\n",
        "       -9.87290919e-01, -9.20819000e-01, -8.99229109e-01, -5.04697680e-01,\n",
        "       -4.15037155e-01, -1.80537000e-01, -1.52362585e-01, -8.43991116e-02,\n",
        "       -8.10096189e-02, -5.76740000e-02, -4.02077623e-02, -2.76460908e-02,\n",
        "       -1.38269800e-02, -1.09413229e-02, -9.36858000e-03, -2.83207800e-03,\n",
        "       -5.33478988e-06,  3.19850000e-05,  1.84123986e-04,  2.11016000e-04,\n",
        "        8.65829000e-03,  9.88599000e-03,  2.58175954e-02,  5.13450000e-02,\n",
        "        6.28057718e-02,  1.05835974e-01,  1.15053318e-01,  1.20522849e-01,\n",
        "        1.27764000e-01,  2.19326511e-01,  2.42352000e-01,  2.51461000e-01,\n",
        "        3.25523138e-01,  5.76370418e-01,  5.87219000e-01,  6.29451275e-01,\n",
        "        7.09268000e-01,  7.37970000e-01,  9.24770000e-01,  9.99828756e-01,\n",
        "        9.99915123e-01,  9.92319000e-01,  8.96705747e-01,  8.90681505e-01,\n",
        "        8.62517000e-01,  7.08453476e-01])\n",
        "\n",
        "plt.plot(S, payoff)\n",
        "\n",
        "\n"
      ],
      "execution_count": null,
      "outputs": [
        {
          "output_type": "execute_result",
          "data": {
            "text/plain": [
              "[<matplotlib.lines.Line2D at 0x7f6c58609240>]"
            ]
          },
          "metadata": {
            "tags": []
          },
          "execution_count": 2
        },
        {
          "output_type": "display_data",
          "data": {
            "image/png": "[encoded data removed]",
            "text/plain": [
              "<Figure size 432x288 with 1 Axes>"
            ]
          },
          "metadata": {
            "tags": [],
            "needs_background": "light"
          }
        }
      ]
    },
    {
      "cell_type": "code",
      "metadata": {
        "id": "q2FUFT_9PzRd"
      },
      "source": [
        "K = np.array([ 1.        ,  0.51757294,  0.42738646,  0.9251348 ,  0.27650452,\n",
        "        0.02718145,  0.74865663,  0.8532894 ,  0.13019468, -0.1112451 ,\n",
        "       -0.12297283, -0.12248817, -0.12297235, -0.29180118, -0.4557022 ,\n",
        "       -0.7644462 , -0.99981326, -0.8303943 , -0.8266366 , -1.243082  ])"
      ],
      "execution_count": null,
      "outputs": []
    },
    {
      "cell_type": "code",
      "metadata": {
        "id": "K3fF8-30QFBz",
        "outputId": "adef3f1b-3881-42a9-9403-f02fabe737e1",
        "colab": {
          "base_uri": "https://localhost:8080/",
          "height": 282
        }
      },
      "source": [
        "# Plot the payoff of the fist call option\n",
        "payoff_call = np.maximum(S - K[0], 0)\n",
        "plt.plot(S, payoff_call)"
      ],
      "execution_count": null,
      "outputs": [
        {
          "output_type": "execute_result",
          "data": {
            "text/plain": [
              "[<matplotlib.lines.Line2D at 0x7f6c5857e5c0>]"
            ]
          },
          "metadata": {
            "tags": []
          },
          "execution_count": 4
        },
        {
          "output_type": "display_data",
          "data": {
            "image/png": "[encoded data removed]",
            "text/plain": [
              "<Figure size 432x288 with 1 Axes>"
            ]
          },
          "metadata": {
            "tags": [],
            "needs_background": "light"
          }
        }
      ]
    },
    {
      "cell_type": "code",
      "metadata": {
        "id": "gvSbeAHbQVRi",
        "outputId": "c6a08755-cbcf-4f22-9893-3bfbeec1aee6",
        "colab": {
          "base_uri": "https://localhost:8080/",
          "height": 35
        }
      },
      "source": [
        "X = np.column_stack([np.maximum(0, S - K[i]) for i in range(20)])\n",
        "X.shape"
      ],
      "execution_count": null,
      "outputs": [
        {
          "output_type": "execute_result",
          "data": {
            "text/plain": [
              "(50, 20)"
            ]
          },
          "metadata": {
            "tags": []
          },
          "execution_count": 5
        }
      ]
    },
    {
      "cell_type": "code",
      "metadata": {
        "id": "NKc5ueXX2nD7",
        "outputId": "f782746f-a881-41fd-db82-ae272e0cb2da",
        "colab": {
          "base_uri": "https://localhost:8080/",
          "height": 89
        }
      },
      "source": [
        "Θ = np.linalg.lstsq(X, payoff)[0]\n",
        "predicted = X @ Θ"
      ],
      "execution_count": null,
      "outputs": [
        {
          "output_type": "stream",
          "text": [
            "/usr/local/lib/python3.6/dist-packages/ipykernel_launcher.py:1: FutureWarning: `rcond` parameter will change to the default of machine precision times ``max(M, N)`` where M and N are the input matrix dimensions.\n",
            "To use the future default and silence this warning we advise to pass `rcond=None`, to keep using the old, explicitly pass `rcond=-1`.\n",
            "  \"\"\"Entry point for launching an IPython kernel.\n"
          ],
          "name": "stderr"
        }
      ]
    },
    {
      "cell_type": "code",
      "metadata": {
        "id": "Ov492I3xbUfk",
        "outputId": "86ad9e50-7b78-40ca-cb51-a40bfa53188e",
        "colab": {
          "base_uri": "https://localhost:8080/",
          "height": 282
        }
      },
      "source": [
        "plt.plot(S, payoff)\n",
        "plt.plot(S, predicted)"
      ],
      "execution_count": null,
      "outputs": [
        {
          "output_type": "execute_result",
          "data": {
            "text/plain": [
              "[<matplotlib.lines.Line2D at 0x7f6c58e869e8>]"
            ]
          },
          "metadata": {
            "tags": []
          },
          "execution_count": 7
        },
        {
          "output_type": "display_data",
          "data": {
            "image/png": "[encoded data removed]",
            "text/plain": [
              "<Figure size 432x288 with 1 Axes>"
            ]
          },
          "metadata": {
            "tags": [],
            "needs_background": "light"
          }
        }
      ]
    },
    {
      "cell_type": "code",
      "metadata": {
        "id": "C1gTV_azbh3E"
      },
      "source": [
        ""
      ],
      "execution_count": null,
      "outputs": []
    }
  ]
}