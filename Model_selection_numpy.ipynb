{
  "nbformat": 4,
  "nbformat_minor": 0,
  "metadata": {
    "colab": {
      "name": "Model selection - numpy.ipynb",
      "provenance": [],
      "collapsed_sections": [],
      "include_colab_link": true
    },
    "kernelspec": {
      "name": "python3",
      "display_name": "Python 3"
    }
  },
  "cells": [
    {
      "cell_type": "markdown",
      "metadata": {
        "id": "view-in-github",
        "colab_type": "text"
      },
      "source": [
        "<a href=\"https://colab.research.google.com/github/N-Jaro/FIN553/blob/master/Model_selection_numpy.ipynb\" target=\"_parent\"><img src=\"https://colab.research.google.com/assets/colab-badge.svg\" alt=\"Open In Colab\"/></a>"
      ]
    },
    {
      "cell_type": "code",
      "metadata": {
        "id": "K8ShLwFAcoZY"
      },
      "source": [
        "# Data\n",
        "import numpy as np\n",
        "\n",
        "x = np.array([0.5488135, 0.71518937, 0.60276338, 0.54488318, 0.4236548,\n",
        "              0.64589411, 0.43758721, 0.891773, 0.96366276, 0.38344152,\n",
        "              0.79172504, 0.52889492, 0.56804456, 0.92559664, 0.07103606,\n",
        "              0.0871293, 0.0202184, 0.83261985, 0.77815675, 0.87001215])\n",
        "\n",
        "y = np.array([5.28096954, 5.55338286, 5.27362886, 4.79352427, 3.82853309,\n",
        "              5.50376882, 4.59134652, 5.79300158, 6.44734895, 3.80840506,\n",
        "              5.7922594, 4.85286325, 5.37362834, 6.26619245, 1.71611946,\n",
        "              1.90896793, 1.02258291, 5.46376013, 5.68434543, 5.94678559])\n"
      ],
      "execution_count": null,
      "outputs": []
    },
    {
      "cell_type": "code",
      "metadata": {
        "id": "nRR4t8TkcuVU"
      },
      "source": [
        "def solve(degree):\n",
        "    # Training\n",
        "    X = np.column_stack([x**k for k in range(degree + 1)])\n",
        "    Θ = np.linalg.lstsq(X[:12], y[:12])[0]\n",
        "\n",
        "    # Validation error\n",
        "    y_hat_validation = X[12:16] @ Θ\n",
        "    mse_validation = np.mean((y[12:16] - y_hat_validation)**2)\n",
        "\n",
        "    # Test error\n",
        "    y_hat_test = X[16:] @ Θ\n",
        "    mse_test = np.mean((y[16:] - y_hat_test)**2)\n",
        "    return mse_validation, mse_test\n"
      ],
      "execution_count": null,
      "outputs": []
    },
    {
      "cell_type": "code",
      "metadata": {
        "id": "mPc2POyZcvvf",
        "outputId": "2704451d-bdc8-4fec-cf2e-073e2cd5327e",
        "colab": {
          "base_uri": "https://localhost:8080/",
          "height": 418
        }
      },
      "source": [
        "for degree in range(19):\n",
        "    mse_validation, mse_test = solve(degree)\n",
        "    print(degree, mse_validation, mse_test)\n"
      ],
      "execution_count": null,
      "outputs": [
        {
          "output_type": "stream",
          "text": [
            "0 5.836020254549727 4.485087696372474\n",
            "1 0.7243650808356318 0.8004108801974046\n",
            "2 0.27083631918480644 0.16280233523894533\n",
            "3 14.10459145068118 12.022336631007086\n",
            "4 6.155012650931505 10.710197461845372\n",
            "5 103.61778091597378 141.80388418998456\n",
            "6 803.2567479366894 1595.5375920476079\n",
            "7 778.7663274786642 1543.8880219542032\n",
            "8 52026484.45853168 141666977.86436528\n",
            "9 1204212814.5609908 3995722265.0507827\n",
            "10 73896453620.65674 316524715090.56854\n",
            "11 2444517432590116.0 1.3639664863231738e+16\n",
            "12 1200683811398494.0 6036350245482904.0\n",
            "13 622327156781347.8 2861945634377586.5\n",
            "14 339658138036933.4 1446674696135111.5\n",
            "15 194205678237342.34 774024333052858.6\n",
            "16 115908154918875.25 436022356682911.06\n",
            "17 71959574539584.72 257357554386482.84\n",
            "18 46326140494257.96 158490046905372.53\n"
          ],
          "name": "stdout"
        },
        {
          "output_type": "stream",
          "text": [
            "/usr/local/lib/python3.6/dist-packages/ipykernel_launcher.py:4: FutureWarning: `rcond` parameter will change to the default of machine precision times ``max(M, N)`` where M and N are the input matrix dimensions.\n",
            "To use the future default and silence this warning we advise to pass `rcond=None`, to keep using the old, explicitly pass `rcond=-1`.\n",
            "  after removing the cwd from sys.path.\n"
          ],
          "name": "stderr"
        }
      ]
    },
    {
      "cell_type": "code",
      "metadata": {
        "id": "CZrZIRQic7JB"
      },
      "source": [
        ""
      ],
      "execution_count": null,
      "outputs": []
    }
  ]
}