{
  "nbformat": 4,
  "nbformat_minor": 0,
  "metadata": {
    "colab": {
      "name": "Model evaluation - numpy.ipynb",
      "provenance": [],
      "collapsed_sections": [],
      "include_colab_link": true
    },
    "kernelspec": {
      "name": "python3",
      "display_name": "Python 3"
    }
  },
  "cells": [
    {
      "cell_type": "markdown",
      "metadata": {
        "id": "view-in-github",
        "colab_type": "text"
      },
      "source": [
        "<a href=\"https://colab.research.google.com/github/N-Jaro/FIN553/blob/master/Model_evaluation_numpy.ipynb\" target=\"_parent\"><img src=\"https://colab.research.google.com/assets/colab-badge.svg\" alt=\"Open In Colab\"/></a>"
      ]
    },
    {
      "cell_type": "code",
      "metadata": {
        "id": "K8ShLwFAcoZY",
        "outputId": "efa4fdee-3686-4398-b1e4-ccbf198ae46e",
        "colab": {
          "base_uri": "https://localhost:8080/",
          "height": 282
        }
      },
      "source": [
        "# Data\n",
        "import numpy as np\n",
        "import matplotlib.pyplot as plt\n",
        "\n",
        "x = np.array([0.5488135, 0.71518937, 0.60276338, 0.54488318, 0.4236548,\n",
        "              0.64589411, 0.43758721, 0.891773, 0.96366276, 0.38344152,\n",
        "              0.79172504, 0.52889492, 0.56804456, 0.92559664, 0.07103606,\n",
        "              0.0871293, 0.0202184, 0.83261985, 0.77815675, 0.87001215])\n",
        "\n",
        "y = np.array([5.28096954, 5.55338286, 5.27362886, 4.79352427, 3.82853309,\n",
        "              5.50376882, 4.59134652, 5.79300158, 6.44734895, 3.80840506,\n",
        "              5.7922594, 4.85286325, 5.37362834, 6.26619245, 1.71611946,\n",
        "              1.90896793, 1.02258291, 5.46376013, 5.68434543, 5.94678559])\n",
        "\n",
        "plt.scatter(x, y)\n"
      ],
      "execution_count": null,
      "outputs": [
        {
          "output_type": "execute_result",
          "data": {
            "text/plain": [
              "<matplotlib.collections.PathCollection at 0x7f28cee13d30>"
            ]
          },
          "metadata": {
            "tags": []
          },
          "execution_count": 1
        },
        {
          "output_type": "display_data",
          "data": {
            "image/png": "[encoded data removed]",
            "text/plain": [
              "<Figure size 432x288 with 1 Axes>"
            ]
          },
          "metadata": {
            "tags": [],
            "needs_background": "light"
          }
        }
      ]
    },
    {
      "cell_type": "code",
      "metadata": {
        "id": "nRR4t8TkcuVU"
      },
      "source": [
        "def solve(degree):\n",
        "    # Training\n",
        "    X = np.column_stack([x**k for k in range(degree + 1)])\n",
        "    Θ = np.linalg.lstsq(X[:16], y[:16])[0]\n",
        "\n",
        "    # Validation error\n",
        "    y_hat_validation = X[16:] @ Θ\n",
        "    mse_validation = np.mean((y[16:] - y_hat_validation)**2)\n",
        "\n",
        "    return mse_validation\n"
      ],
      "execution_count": null,
      "outputs": []
    },
    {
      "cell_type": "code",
      "metadata": {
        "id": "mPc2POyZcvvf",
        "outputId": "982b4a14-7797-454e-bb92-a25ea90cd315",
        "colab": {
          "base_uri": "https://localhost:8080/",
          "height": 417
        }
      },
      "source": [
        "for degree in range(19):\n",
        "    mse_validation = solve(degree)\n",
        "    print(degree, mse_validation)\n"
      ],
      "execution_count": null,
      "outputs": [
        {
          "output_type": "stream",
          "text": [
            "0 4.201118080364049\n",
            "1 0.39543274509646575\n",
            "2 0.09725829926604139\n",
            "3 0.11689711068773229\n",
            "4 0.38768034764323145\n",
            "5 0.07461071096697484\n",
            "6 0.030756463100873814\n",
            "7 0.06675959719064546\n",
            "8 0.40258414389696817\n",
            "9 11.85900963895055\n",
            "10 460.6176510078445\n",
            "11 70448.41694164657\n",
            "12 10413061.605394434\n",
            "13 831669908.1070402\n",
            "14 67370217823.82298\n",
            "15 26468475420.40996\n",
            "16 11095497675.526217\n",
            "17 4927540184.522896\n",
            "18 1053206364546711.5\n"
          ],
          "name": "stdout"
        },
        {
          "output_type": "stream",
          "text": [
            "/usr/local/lib/python3.6/dist-packages/ipykernel_launcher.py:4: FutureWarning: `rcond` parameter will change to the default of machine precision times ``max(M, N)`` where M and N are the input matrix dimensions.\n",
            "To use the future default and silence this warning we advise to pass `rcond=None`, to keep using the old, explicitly pass `rcond=-1`.\n",
            "  after removing the cwd from sys.path.\n"
          ],
          "name": "stderr"
        }
      ]
    },
    {
      "cell_type": "code",
      "metadata": {
        "id": "ZrvhmNxpcxn6",
        "outputId": "61eeff03-d72a-4912-8234-814ea03dabec",
        "colab": {
          "base_uri": "https://localhost:8080/",
          "height": 354
        }
      },
      "source": [
        "degree = 6\n",
        "X = np.column_stack([x**k for k in range(degree + 1)])\n",
        "Θ = np.linalg.lstsq(X[:16], y[:16])[0]\n",
        "predicted = X @ Θ\n",
        "\n",
        "plt.scatter(x, y)\n",
        "plt.scatter(x, predicted)\n",
        "\n"
      ],
      "execution_count": null,
      "outputs": [
        {
          "output_type": "stream",
          "text": [
            "/usr/local/lib/python3.6/dist-packages/ipykernel_launcher.py:3: FutureWarning: `rcond` parameter will change to the default of machine precision times ``max(M, N)`` where M and N are the input matrix dimensions.\n",
            "To use the future default and silence this warning we advise to pass `rcond=None`, to keep using the old, explicitly pass `rcond=-1`.\n",
            "  This is separate from the ipykernel package so we can avoid doing imports until\n"
          ],
          "name": "stderr"
        },
        {
          "output_type": "execute_result",
          "data": {
            "text/plain": [
              "<matplotlib.collections.PathCollection at 0x7f28ceddad30>"
            ]
          },
          "metadata": {
            "tags": []
          },
          "execution_count": 4
        },
        {
          "output_type": "display_data",
          "data": {
            "image/png": "[encoded data removed]",
            "text/plain": [
              "<Figure size 432x288 with 1 Axes>"
            ]
          },
          "metadata": {
            "tags": [],
            "needs_background": "light"
          }
        }
      ]
    },
    {
      "cell_type": "code",
      "metadata": {
        "id": "CZrZIRQic7JB"
      },
      "source": [
        ""
      ],
      "execution_count": null,
      "outputs": []
    }
  ]
}