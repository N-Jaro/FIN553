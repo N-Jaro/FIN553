{
  "nbformat": 4,
  "nbformat_minor": 0,
  "metadata": {
    "colab": {
      "name": "Neural Network regression with Keras.ipynb",
      "provenance": [],
      "collapsed_sections": [],
      "include_colab_link": true
    },
    "kernelspec": {
      "name": "python3",
      "display_name": "Python 3"
    },
    "accelerator": "GPU"
  },
  "cells": [
    {
      "cell_type": "markdown",
      "metadata": {
        "id": "view-in-github",
        "colab_type": "text"
      },
      "source": [
        "<a href=\"https://colab.research.google.com/github/N-Jaro/FIN553/blob/master/Neural_Network_regression_with_Keras.ipynb\" target=\"_parent\"><img src=\"https://colab.research.google.com/assets/colab-badge.svg\" alt=\"Open In Colab\"/></a>"
      ]
    },
    {
      "cell_type": "markdown",
      "metadata": {
        "id": "tO-gREkIxf0o"
      },
      "source": [
        "# Import libraries"
      ]
    },
    {
      "cell_type": "code",
      "metadata": {
        "id": "4Gg4l5MAxewR"
      },
      "source": [
        "import matplotlib.pyplot as plt\n",
        "from tensorflow.keras import Sequential\n",
        "from tensorflow.keras.layers import Dense\n",
        "import tensorflow as tf"
      ],
      "execution_count": null,
      "outputs": []
    },
    {
      "cell_type": "markdown",
      "metadata": {
        "id": "F1WdgK85xmjO"
      },
      "source": [
        "# Data"
      ]
    },
    {
      "cell_type": "code",
      "metadata": {
        "id": "YGUmiu6CxdQq"
      },
      "source": [
        "x = tf.constant([-0.8964536, -0.8937423, -0.8160014, -0.8135896, -0.7777178,\n",
        "              -0.7306509, -0.7196269, -0.56077266, -0.5225189, -0.39259458,\n",
        "              -0.37080932, -0.30425978, -0.30012155, -0.26793814, -0.23755741,\n",
        "              -0.20966339, -0.16642046, -0.15392852, -0.14616823, -0.09809828,\n",
        "              -0.01211524, 0.02200961, 0.0394454, 0.04127908, 0.14237666,\n",
        "              0.1488111, 0.20493412, 0.25775242, 0.2756691, 0.32817745,\n",
        "              0.3374791, 0.34276915, 0.34953642, 0.41928077, 0.4337349,\n",
        "              0.43921685, 0.4798982, 0.5894067, 0.5936425, 0.6099713,\n",
        "              0.64054966, 0.6516247, 0.7327845, 0.8028183, 0.803761,\n",
        "              0.82667255, 0.8778291, 0.879761, 0.8880968, 0.92238617])\n",
        "\n",
        "y = tf.constant([-8.3069e-01, -8.4141e-01, -9.98246000e-01, -9.9899e-01,\n",
        "              -9.8729e-01, -9.2081e-01, -8.99229109e-01, -5.04697680e-01,\n",
        "              -4.1503e-01, -1.8053e-01, -1.52362585e-01, -8.43991116e-02,\n",
        "              -8.1009e-02, -5.7674e-02, -4.02077623e-02, -2.76460908e-02,\n",
        "              -1.3826e-02, -1.0941e-02, -9.36858000e-03, -2.83207800e-03,\n",
        "              -5.334e-06, 3.19850000e-05, 1.84123986e-04, 2.11016000e-04,\n",
        "              8.658e-03, 9.88599000e-03, 2.58175954e-02, 5.13450000e-02,\n",
        "              6.280e-02, 1.05835974e-01, 1.15053318e-01, 1.20522849e-01,\n",
        "              1.277e-01, 2.19326511e-01, 2.42352000e-01, 2.51461000e-01,\n",
        "              3.255e-01, 5.76370418e-01, 5.87219000e-01, 6.29451275e-01,\n",
        "              7.0926e-01, 7.37970000e-01, 9.24770000e-01, 9.99828756e-01,\n",
        "              9.9991e-01, 9.92319000e-01, 8.96705747e-01, 8.90681505e-01,\n",
        "              8.62517000e-01, 7.08453476e-01])\n",
        "\n",
        "N = len(x)"
      ],
      "execution_count": null,
      "outputs": []
    },
    {
      "cell_type": "markdown",
      "metadata": {
        "id": "5HHUjijIxomi"
      },
      "source": [
        "# Neural Network design"
      ]
    },
    {
      "cell_type": "code",
      "metadata": {
        "id": "ESowHJm9xayu"
      },
      "source": [
        "model = Sequential([Dense(64, activation='relu'), Dense(1)])\n",
        "model.compile(loss='mse')"
      ],
      "execution_count": null,
      "outputs": []
    },
    {
      "cell_type": "markdown",
      "metadata": {
        "id": "IxWAbeneyQrH"
      },
      "source": [
        "# Optimize the loss with gradient descent"
      ]
    },
    {
      "cell_type": "code",
      "metadata": {
        "id": "ek9P77lYyPgw",
        "outputId": "fddea431-ad7d-4758-876b-d0debcd10e81",
        "colab": {
          "base_uri": "https://localhost:8080/",
          "height": 35
        }
      },
      "source": [
        "model.fit(x, y, epochs=1000, batch_size=N, verbose=False)"
      ],
      "execution_count": null,
      "outputs": [
        {
          "output_type": "execute_result",
          "data": {
            "text/plain": [
              "<tensorflow.python.keras.callbacks.History at 0x7fa406512908>"
            ]
          },
          "metadata": {
            "tags": []
          },
          "execution_count": 5
        }
      ]
    },
    {
      "cell_type": "code",
      "metadata": {
        "id": "mTz3r9ihztze",
        "outputId": "202ee895-5437-4f69-e8dd-6f32a9e70ef6",
        "colab": {
          "base_uri": "https://localhost:8080/",
          "height": 283
        }
      },
      "source": [
        "prediction = model.predict(x)\n",
        "plt.scatter(x, y, color='red')\n",
        "plt.plot(x, prediction)\n"
      ],
      "execution_count": null,
      "outputs": [
        {
          "output_type": "execute_result",
          "data": {
            "text/plain": [
              "[<matplotlib.lines.Line2D at 0x7fa40631a208>]"
            ]
          },
          "metadata": {
            "tags": []
          },
          "execution_count": 6
        },
        {
          "output_type": "display_data",
          "data": {
            "image/png": "[encoded data removed]",
            "text/plain": [
              "<Figure size 432x288 with 1 Axes>"
            ]
          },
          "metadata": {
            "tags": [],
            "needs_background": "light"
          }
        }
      ]
    },
    {
      "cell_type": "code",
      "metadata": {
        "id": "F6LVjPdQydpA"
      },
      "source": [
        ""
      ],
      "execution_count": null,
      "outputs": []
    }
  ]
}